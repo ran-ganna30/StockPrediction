{
 "cells": [
  {
   "cell_type": "markdown",
   "metadata": {},
   "source": [
    "<h1>Stock Price Prediction</h1>"
   ]
  },
  {
   "cell_type": "code",
   "execution_count": 2,
   "metadata": {},
   "outputs": [],
   "source": [
    "import numpy as np\n",
    "import pandas as pd\n",
    "from sklearn import preprocessing\n",
    "from sklearn.model_selection import train_test_split\n",
    "from sklearn.linear_model import LinearRegression"
   ]
  },
  {
   "cell_type": "markdown",
   "metadata": {},
   "source": [
    "<h2>Data Preparation</h2>"
   ]
  },
  {
   "cell_type": "code",
   "execution_count": 3,
   "metadata": {},
   "outputs": [],
   "source": [
    "def prepare_data(df, target_column, prediction_horizon, test_ratio):\n",
    "    # Shift the target column to create future labels\n",
    "    future_labels = df[target_column].shift(-prediction_horizon)\n",
    "\n",
    "    # Feature extraction and preprocessing\n",
    "    features = np.array(df[[target_column]])\n",
    "    features = preprocessing.scale(features)\n",
    "\n",
    "    # Split the features into current and future (for prediction)\n",
    "    recent_features = features[-prediction_horizon:]\n",
    "    features = features[:-prediction_horizon]\n",
    "\n",
    "    # Drop any missing labels resulting from the shift\n",
    "    future_labels.dropna(inplace=True)\n",
    "    targets = np.array(future_labels)\n",
    "\n",
    "    # Split into training and testing sets\n",
    "    X_train, X_test, y_train, y_test = train_test_split(features, targets, test_size=test_ratio, random_state=0)\n",
    "\n",
    "    return [X_train, X_test, y_train, y_test, recent_features]\n"
   ]
  },
  {
   "cell_type": "code",
   "execution_count": 13,
   "metadata": {},
   "outputs": [],
   "source": [
    "df = pd.read_csv(\"prices.csv\")"
   ]
  },
  {
   "cell_type": "code",
   "execution_count": null,
   "metadata": {},
   "outputs": [],
   "source": [
    "target_column = 'Close'             \n",
    "prediction_horizon = 10              \n",
    "test_ratio = 0.2                    \n"
   ]
  },
  {
   "cell_type": "markdown",
   "metadata": {},
   "source": [
    "<h2>Applying Machine Learning for Stock Price Prediction</h2>"
   ]
  },
  {
   "cell_type": "code",
   "execution_count": null,
   "metadata": {},
   "outputs": [
    {
     "name": "stdout",
     "output_type": "stream",
     "text": [
      "{'test_score': 0.5418455453443642, 'forecast_set': [2337.1334059328005, 2352.90757257932, 2336.657232415776, 2340.0215084227852, 2344.59200062596, 2326.3103674261747, 2313.1388672371177, 2300.9511124583255, 2301.522486567278, 2322.5018196977285]}\n"
     ]
    }
   ],
   "source": [
    "\n",
    "X_train, X_test, y_train, y_test, upcoming_data = prepare_data(df, target_column, prediction_horizon, test_ratio)\n",
    "\n",
    "model = LinearRegression()\n",
    "model.fit(X_train, y_train)\n",
    "\n",
    "test_score = model.score(X_test, y_test)\n",
    "\n",
    "forecast_predictions = model.predict(upcoming_data)\n",
    "\n",
    "results = {\n",
    "    'test_score': test_score,\n",
    "    'forecast_set': forecast_predictions.tolist()\n",
    "}\n",
    "\n",
    "print(results)\n"
   ]
  }
 ],
 "metadata": {
  "kernelspec": {
   "display_name": "Python 3",
   "language": "python",
   "name": "python3"
  },
  "language_info": {
   "codemirror_mode": {
    "name": "ipython",
    "version": 3
   },
   "file_extension": ".py",
   "mimetype": "text/x-python",
   "name": "python",
   "nbconvert_exporter": "python",
   "pygments_lexer": "ipython3",
   "version": "3.13.2"
  }
 },
 "nbformat": 4,
 "nbformat_minor": 2
}
